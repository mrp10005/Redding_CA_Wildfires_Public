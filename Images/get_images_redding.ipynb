{
 "cells": [
  {
   "cell_type": "markdown",
   "metadata": {},
   "source": [
    "* Data was originally from here: https://fsapps.nwcg.gov/afm/imagery.php\n",
    "* That site is being discontinued for:\n",
    "    * https://wvs.earthdata.nasa.gov/\n",
    "    * https://firms.modaps.eosdis.nasa.gov/usfs/\n",
    "    * https://wvs.earthdata.nasa.gov/?LAYERS=MODIS_Terra_CorrectedReflectance_TrueColor,MODIS_Terra_Thermal_Anomalies_Day&CRS=EPSG:4326&TIME=2020-09-21&COORDINATES=40.200000,-122.500000,41.000000,-121.800000&FORMAT=image/jpeg&AUTOSCALE=TRUE&RESOLUTION=10km"
   ]
  },
  {
   "cell_type": "code",
   "execution_count": 1,
   "metadata": {},
   "outputs": [],
   "source": [
    "import requests"
   ]
  },
  {
   "cell_type": "code",
   "execution_count": 2,
   "metadata": {},
   "outputs": [],
   "source": [
    "from tqdm import tqdm"
   ]
  },
  {
   "cell_type": "markdown",
   "metadata": {},
   "source": [
    "### Dates"
   ]
  },
  {
   "cell_type": "code",
   "execution_count": 4,
   "metadata": {},
   "outputs": [],
   "source": [
    "years = ['2010','2011','2012','2013','2014','2015','2016','2017','2018','2019','2020','2021']\n",
    "months = ['01','02','03','04','05','06','07','08','09','10','11','12']\n",
    "days = ['01','02','03','04','05','06','07','08','09','10',\n",
    "       '11','12','13','14','15','16','17','18','19','20',\n",
    "       '21','22','23','24','25','26','27','28','29',\n",
    "       '30','31']"
   ]
  },
  {
   "cell_type": "code",
   "execution_count": 5,
   "metadata": {},
   "outputs": [],
   "source": [
    "days_31 = days[0:31]\n",
    "days_30 = days[0:30]\n",
    "days_29 = days[0:29]\n",
    "days_28 = days[0:28]"
   ]
  },
  {
   "cell_type": "markdown",
   "metadata": {},
   "source": [
    "# Labeled Data\n",
    "* You can select fires here https://wvs.earthdata.nasa.gov/"
   ]
  },
  {
   "cell_type": "code",
   "execution_count": 7,
   "metadata": {},
   "outputs": [],
   "source": [
    "labeled_base_url = 'https://wvs.earthdata.nasa.gov/api/v1/snapshot?REQUEST=GetSnapshot&LAYERS=MODIS_Terra_CorrectedReflectance_TrueColor,MODIS_Terra_Thermal_Anomalies_Day&CRS=EPSG:4326&TIME=2010-01-01&WRAP=DAY,DAY&BBOX=40,-123,41.15,-121&FORMAT=image/jpeg&WIDTH=23&HEIGHT=13&AUTOSCALE=TRUE&ts=1640280764490'"
   ]
  },
  {
   "cell_type": "code",
   "execution_count": 8,
   "metadata": {},
   "outputs": [],
   "source": [
    "labeled_url_1 = 'https://wvs.earthdata.nasa.gov/api/v1/snapshot?REQUEST=GetSnapshot&LAYERS=MODIS_Terra_CorrectedReflectance_TrueColor,MODIS_Terra_Thermal_Anomalies_Day&CRS=EPSG:4326&TIME='\n",
    "date_format = '2010-01-01'\n",
    "labeled_url_2 = '&WRAP=DAY,DAY&BBOX=40,-123,41.15,-121&FORMAT=image/jpeg&'\n",
    "url_height_width = 'WIDTH=240&HEIGHT=180'\n",
    "labeled_url_3 = '&AUTOSCALE=TRUE&ts=1640280764490'"
   ]
  },
  {
   "cell_type": "code",
   "execution_count": 17,
   "metadata": {},
   "outputs": [],
   "source": [
    "for year in tqdm(years):\n",
    "    for month in months:\n",
    "        print('year:',year,'month:',month)\n",
    "        if (month == '01' or month == '03' or month == '05' or month == '07' or month == '08' or month == '10' or month == '12') and (year == '2010' or year == '2011' or year == '2012' or year == '2013' or year == '2014' or year == '2015' or year == '2016' or year == '2017' or year == '2018' or year == '2019' or year == '2020' or year == '2021'):\n",
    "            for day in days_31:\n",
    "                date = year+'-'+month+'-'+day\n",
    "                url = labeled_url_1+date+labeled_url_2+url_height_width+labeled_url_3\n",
    "                r = requests.get(url)\n",
    "                if r.status_code == 200:\n",
    "                    storage_location = 'images_w_fire_labels/'+date+'.jpg'\n",
    "                    with open(storage_location, \"wb\") as f:\n",
    "                        f.write(r.content)\n",
    "                else:\n",
    "                    print('date failed: ', date)\n",
    "        if (month == '04' or month == '06' or month == '09' or month == '11') and (year == '2010' or year == '2011' or year == '2012' or year == '2013' or year == '2014' or year == '2015' or year == '2016' or year == '2017' or year == '2018' or year == '2019' or year == '2020' or year == '2021'):\n",
    "            for day in days_30:\n",
    "                date = year+'-'+month+'-'+day\n",
    "                url = labeled_url_1+date+labeled_url_2+url_height_width+labeled_url_3\n",
    "                r = requests.get(url)\n",
    "                if r.status_code == 200:\n",
    "                    storage_location = 'images_w_fire_labels/'+date+'.jpg'\n",
    "                    with open(storage_location, \"wb\") as f:\n",
    "                        f.write(r.content)\n",
    "                else:\n",
    "                    print('date failed: ', date)\n",
    "        if month == '02' and (year == '2010' or year == '2011' or year == '2013' or year == '2014' or year == '2015' or year == '2017' or year == '2018' or year == '2019' or year == '2021'):\n",
    "            for day in days_28:\n",
    "                date = year+'-'+month+'-'+day\n",
    "                url = labeled_url_1+date+labeled_url_2+url_height_width+labeled_url_3\n",
    "                r = requests.get(url)\n",
    "                if r.status_code == 200:\n",
    "                    storage_location = 'images_w_fire_labels/'+date+'.jpg'\n",
    "                    with open(storage_location, \"wb\") as f:\n",
    "                        f.write(r.content)\n",
    "                else:\n",
    "                    print('date failed: ', date)\n",
    "        if month == '02' and (year == '2012' or year == '2016' or year == '2020'):\n",
    "            for day in days_29:\n",
    "                date = year+'-'+month+'-'+day\n",
    "                url = labeled_url_1+date+labeled_url_2+url_height_width+labeled_url_3\n",
    "                r = requests.get(url)\n",
    "                if r.status_code == 200:\n",
    "                    storage_location = 'images_w_fire_labels/'+date+'.jpg'\n",
    "                    with open(storage_location, \"wb\") as f:\n",
    "                        f.write(r.content)\n",
    "                else:\n",
    "                    print('date failed: ', date)"
   ]
  },
  {
   "cell_type": "markdown",
   "metadata": {},
   "source": [
    "### For some reason 08/01/2018 is just black"
   ]
  },
  {
   "cell_type": "code",
   "execution_count": null,
   "metadata": {},
   "outputs": [],
   "source": [
    "#year = '2018'\n",
    "#month = '08'\n",
    "#day = '01'"
   ]
  },
  {
   "cell_type": "code",
   "execution_count": null,
   "metadata": {},
   "outputs": [],
   "source": [
    "#date = year+'-'+month+'-'+day\n",
    "#url = url_1+date+url_2+url_height_width+url_3\n",
    "#print('url: ', url)\n",
    "#r = requests.get(url)\n",
    "#print(r.status_code)\n",
    "#if r.status_code == 200:\n",
    "    #storage_location = 'images_w_fire_labels/'+date+'.jpg'\n",
    "    #with open(storage_location, \"wb\") as f:\n",
    "        #f.write(r.content)\n",
    "#else:\n",
    "    #print('date failed: ', date)"
   ]
  },
  {
   "cell_type": "markdown",
   "metadata": {},
   "source": [
    "# Unlabeled"
   ]
  },
  {
   "cell_type": "code",
   "execution_count": 9,
   "metadata": {},
   "outputs": [],
   "source": [
    "unlabeled_url_full = 'https://wvs.earthdata.nasa.gov/api/v1/snapshot?REQUEST=GetSnapshot&LAYERS=MODIS_Terra_CorrectedReflectance_TrueColor&CRS=EPSG:4326&TIME=2018-07-30&WRAP=DAY&BBOX=40,-123,41.15,-121&FORMAT=image/jpeg&WIDTH=23&HEIGHT=13&AUTOSCALE=TRUE&ts=1640283894437'"
   ]
  },
  {
   "cell_type": "code",
   "execution_count": 10,
   "metadata": {},
   "outputs": [],
   "source": [
    "unlabeled_url_1 = 'https://wvs.earthdata.nasa.gov/api/v1/snapshot?REQUEST=GetSnapshot&LAYERS=MODIS_Terra_CorrectedReflectance_TrueColor&CRS=EPSG:4326&TIME='\n",
    "time = '2010-01-01'\n",
    "unlabeled_url_2 = '&WRAP=DAY&BBOX=40,-123,41.15,-121&FORMAT=image/jpeg&'\n",
    "unlabeled_url_3 = '&AUTOSCALE=TRUE&ts=1640283894437'"
   ]
  },
  {
   "cell_type": "code",
   "execution_count": 18,
   "metadata": {},
   "outputs": [],
   "source": [
    "for year in tqdm(years):\n",
    "    for month in months:\n",
    "        print('year:',year,'month:',month)\n",
    "        if (month == '01' or month == '03' or month == '05' or month == '07' or month == '08' or month == '10' or month == '12') and (year == '2010' or year == '2011' or year == '2012' or year == '2013' or year == '2014' or year == '2015' or year == '2016' or year == '2017' or year == '2018' or year == '2019' or year == '2020' or year == '2021'):\n",
    "            for day in days_31:\n",
    "                date = year+'-'+month+'-'+day\n",
    "                url = unlabeled_url_1+date+unlabeled_url_2+url_height_width+unlabeled_url_3\n",
    "                r = requests.get(url)\n",
    "                if r.status_code == 200:\n",
    "                    storage_location = 'images_wo_fire_labels/'+date+'.jpg'\n",
    "                    with open(storage_location, \"wb\") as f:\n",
    "                        f.write(r.content)\n",
    "                else:\n",
    "                    print('date failed: ', date)\n",
    "        if (month == '04' or month == '06' or month == '09' or month == '11') and (year == '2010' or year == '2011' or year == '2012' or year == '2013' or year == '2014' or year == '2015' or year == '2016' or year == '2017' or year == '2018' or year == '2019' or year == '2020' or year == '2021'):\n",
    "            for day in days_30:\n",
    "                date = year+'-'+month+'-'+day\n",
    "                url = unlabeled_url_1+date+unlabeled_url_2+url_height_width+unlabeled_url_3\n",
    "                r = requests.get(url)\n",
    "                if r.status_code == 200:\n",
    "                    storage_location = 'images_wo_fire_labels/'+date+'.jpg'\n",
    "                    with open(storage_location, \"wb\") as f:\n",
    "                        f.write(r.content)\n",
    "                else:\n",
    "                    print('date failed: ', date)\n",
    "        if month == '02' and (year == '2010' or year == '2011' or year == '2013' or year == '2014' or year == '2015' or year == '2017' or year == '2018' or year == '2019' or year == '2021'):\n",
    "            for day in days_28:\n",
    "                date = year+'-'+month+'-'+day\n",
    "                url = unlabeled_url_1+date+unlabeled_url_2+url_height_width+unlabeled_url_3\n",
    "                r = requests.get(url)\n",
    "                if r.status_code == 200:\n",
    "                    storage_location = 'images_wo_fire_labels/'+date+'.jpg'\n",
    "                    with open(storage_location, \"wb\") as f:\n",
    "                        f.write(r.content)\n",
    "                else:\n",
    "                    print('date failed: ', date)\n",
    "        if month == '02' and (year == '2012' or year == '2016' or year == '2020'):\n",
    "            for day in days_29:\n",
    "                date = year+'-'+month+'-'+day\n",
    "                url = unlabeled_url_1+date+unlabeled_url_2+url_height_width+unlabeled_url_3\n",
    "                r = requests.get(url)\n",
    "                if r.status_code == 200:\n",
    "                    storage_location = 'images_wo_fire_labels/'+date+'.jpg'\n",
    "                    with open(storage_location, \"wb\") as f:\n",
    "                        f.write(r.content)\n",
    "                else:\n",
    "                    print('date failed: ', date)"
   ]
  },
  {
   "cell_type": "code",
   "execution_count": null,
   "metadata": {},
   "outputs": [],
   "source": []
  }
 ],
 "metadata": {
  "kernelspec": {
   "display_name": "Python 3 (ipykernel)",
   "language": "python",
   "name": "python3"
  },
  "language_info": {
   "codemirror_mode": {
    "name": "ipython",
    "version": 3
   },
   "file_extension": ".py",
   "mimetype": "text/x-python",
   "name": "python",
   "nbconvert_exporter": "python",
   "pygments_lexer": "ipython3",
   "version": "3.9.7"
  }
 },
 "nbformat": 4,
 "nbformat_minor": 4
}
