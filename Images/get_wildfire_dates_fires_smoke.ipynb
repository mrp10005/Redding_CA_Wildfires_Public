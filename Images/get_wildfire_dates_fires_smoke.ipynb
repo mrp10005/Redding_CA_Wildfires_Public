{
 "cells": [
  {
   "cell_type": "markdown",
   "metadata": {},
   "source": [
    "# Retrieving Days with an orange dot (NASA labeled wildfire), minimal cloud coverage, too much cloud coverage, what I believe is wildfire smoke and what I think is not wildfire smoke"
   ]
  },
  {
   "cell_type": "markdown",
   "metadata": {},
   "source": [
    "* I check some of the results for just 2018 and it actually did a really good job. Because there isn't much (maybe any) orange color in the images, I am going to assume if this returns a date with orange pixels then there was a wildfire on that date in Redding.\n",
    "* I could manually go through all the images but that would take a very long time.\n",
    "* To check, I have the excel files, California_Fire_Incidents_Shasta.csv and California_Fire_Incidents.csv, that have dates of actual wildfires so I can cross check to confirm.\n",
    "* Note: The algorithm I train on the images will use the images that don't have the orange color (that came from nasa)"
   ]
  },
  {
   "cell_type": "markdown",
   "metadata": {},
   "source": [
    "* Data was originally from here: https://fsapps.nwcg.gov/afm/imagery.php\n",
    "* That site is being discontinued for:\n",
    "    * https://wvs.earthdata.nasa.gov/\n",
    "    * https://firms.modaps.eosdis.nasa.gov/usfs/\n",
    "    * https://wvs.earthdata.nasa.gov/?LAYERS=MODIS_Terra_CorrectedReflectance_TrueColor,MODIS_Terra_Thermal_Anomalies_Day&CRS=EPSG:4326&TIME=2020-09-21&COORDINATES=40.200000,-122.500000,41.000000,-121.800000&FORMAT=image/jpeg&AUTOSCALE=TRUE&RESOLUTION=10km"
   ]
  },
  {
   "cell_type": "code",
   "execution_count": 33,
   "metadata": {},
   "outputs": [],
   "source": [
    "from PIL import Image\n",
    "from collections import defaultdict\n",
    "import requests"
   ]
  },
  {
   "cell_type": "code",
   "execution_count": 34,
   "metadata": {},
   "outputs": [],
   "source": [
    "import numpy as np\n",
    "import matplotlib.pyplot as plt\n",
    "from skimage.io import imshow, imread"
   ]
  },
  {
   "cell_type": "code",
   "execution_count": 1,
   "metadata": {},
   "outputs": [],
   "source": [
    "#im = Image.open('images_w_fire_labels/2018-07-31.jpg')"
   ]
  },
  {
   "cell_type": "markdown",
   "metadata": {},
   "source": [
    "# Just getting images with smoke to see colors"
   ]
  },
  {
   "cell_type": "code",
   "execution_count": 36,
   "metadata": {},
   "outputs": [],
   "source": [
    "unlabeled_url_full = 'https://wvs.earthdata.nasa.gov/api/v1/snapshot?REQUEST=GetSnapshot&LAYERS=MODIS_Terra_CorrectedReflectance_TrueColor&CRS=EPSG:4326&TIME=2020-08-21&WRAP=DAY&BBOX=40.3,-122.55,40.5,-121.75&FORMAT=image/jpeg&WIDTH=9&HEIGHT=2&AUTOSCALE=TRUE&ts=1642005890751'"
   ]
  },
  {
   "cell_type": "code",
   "execution_count": 37,
   "metadata": {},
   "outputs": [],
   "source": [
    "unlabeled_url_1 = 'https://wvs.earthdata.nasa.gov/api/v1/snapshot?REQUEST=GetSnapshot&LAYERS=MODIS_Terra_CorrectedReflectance_TrueColor&CRS=EPSG:4326&TIME='\n",
    "time = '2020-08-21'\n",
    "unlabeled_url_2 = '&WRAP=DAY&BBOX=40.3,-122.3,40.5,-121.9&FORMAT=image/jpeg&'\n",
    "url_height_width = 'WIDTH=240&HEIGHT=180'\n",
    "unlabeled_url_3 = '&AUTOSCALE=TRUE&ts=1642005890751'"
   ]
  },
  {
   "cell_type": "markdown",
   "metadata": {},
   "source": [
    "# The images have 32760 total pixels"
   ]
  },
  {
   "cell_type": "code",
   "execution_count": 38,
   "metadata": {},
   "outputs": [],
   "source": [
    "date = time\n",
    "url = unlabeled_url_1+date+unlabeled_url_2+url_height_width+unlabeled_url_3\n",
    "r = requests.get(url)\n",
    "if r.status_code == 200:\n",
    "    storage_location = 'wildfire_smoke_example/'+date+'v2'+'.jpg'\n",
    "    with open(storage_location, \"wb\") as f:\n",
    "        f.write(r.content)\n",
    "else:\n",
    "    print('date failed: ', date)"
   ]
  },
  {
   "cell_type": "code",
   "execution_count": 39,
   "metadata": {},
   "outputs": [],
   "source": [
    "# (240,240,240) is very close to white\n",
    "img = Image.new('RGB',(200,200),(220, 220, 220))\n",
    "img.show()"
   ]
  },
  {
   "cell_type": "markdown",
   "metadata": {},
   "source": [
    "# actual_wildfire_pixels is a set of (r,g,b) that has wildfire smoke"
   ]
  },
  {
   "cell_type": "markdown",
   "metadata": {},
   "source": [
    "# 8/25/2020 and 8/21/2020 look like wildfire smoke"
   ]
  },
  {
   "cell_type": "code",
   "execution_count": 40,
   "metadata": {},
   "outputs": [],
   "source": [
    "im = Image.open('wildfire_smoke_example/2020-08-21v2.jpg')\n",
    "by_color = defaultdict(int)\n",
    "\n",
    "actual_wildfire_pixels = set()\n",
    "for pixel in im.getdata():\n",
    "    by_color[pixel] += 1\n",
    "    actual_wildfire_pixels.add(pixel)"
   ]
  },
  {
   "cell_type": "markdown",
   "metadata": {},
   "source": [
    "# actual_wildfire_pixels range from (137,143,141) to (177,174,169)"
   ]
  },
  {
   "cell_type": "code",
   "execution_count": 42,
   "metadata": {},
   "outputs": [
    {
     "data": {
      "text/plain": [
       "180"
      ]
     },
     "execution_count": 42,
     "metadata": {},
     "output_type": "execute_result"
    }
   ],
   "source": [
    "# This is the first rgb value for each of the 180 rows\n",
    "# This returns 180 lists with 180 elements\n",
    "#im[:,:,0]\n",
    "len(im[:,:,0])"
   ]
  },
  {
   "cell_type": "markdown",
   "metadata": {},
   "source": [
    "# All this does is put a 0 if the pixels are less than the filter\n",
    "[[229 220 217 ... 202 193 189]\n",
    " [223 214 211 ... 210 200 193]\n",
    " [220 212 208 ... 215 203 193]\n",
    " ...\n",
    " [  0 167 194 ... 225 220 212]\n",
    " [179   0   0 ... 223 218 211]\n",
    " [186   0   0 ... 221 216 210]]"
   ]
  },
  {
   "cell_type": "code",
   "execution_count": 43,
   "metadata": {},
   "outputs": [
    {
     "name": "stdout",
     "output_type": "stream",
     "text": [
      "180\n",
      "180\n",
      "180\n",
      "0\n"
     ]
    }
   ],
   "source": [
    "wildfire_smoke_dates_test = set()\n",
    "no_wildfire_smoke_dates_test = set()\n",
    "# 2020-10-23 has no clouds in it\n",
    "#date = '2020-10-23'\n",
    "date = '2021-01-24'\n",
    "storage_location = 'images_wo_fire_labels/'+date+'.jpg'\n",
    "im = imread(storage_location)\n",
    "wildfire_smoke_filtered = (im[:,:,0] >= 160) & (im[:,:,1] >= 165) & (im[:,:,2] >= 160)\n",
    "im[:, :, 0] = im[:, :, 0] * wildfire_smoke_filtered\n",
    "print(len(im[:, :, 0]))\n",
    "#print(im[:, :, 0])\n",
    "im[:, :, 1] = im[:, :, 1] * wildfire_smoke_filtered\n",
    "print(len(im[:, :, 1]))\n",
    "#print(im[:, :, 1])\n",
    "im[:, :, 2] = im[:, :, 2] * wildfire_smoke_filtered\n",
    "print(len(im[:, :, 2]))\n",
    "#print(im[:, :, 2])\n",
    "                \n",
    "wildfire_smoke_count = 0\n",
    "\n",
    "# Also have to do im[:,:,1] and im[:,:,2]\n",
    "for pixel in im[:,:,0]:#[:,:,0]:\n",
    "    for point in pixel:\n",
    "        #print('point: ', point)\n",
    "        break\n",
    "    break\n",
    "        #if point > 0:\n",
    "            #wildfire_smoke_count += 1\n",
    "if wildfire_smoke_count > 0:\n",
    "    wildfire_smoke_dates_test.add(date)\n",
    "else:\n",
    "    no_wildfire_smoke_dates_test.add(date)\n",
    "print(wildfire_smoke_count)"
   ]
  },
  {
   "cell_type": "code",
   "execution_count": 44,
   "metadata": {},
   "outputs": [],
   "source": [
    "unlabeled_url_1 = 'https://wvs.earthdata.nasa.gov/api/v1/snapshot?REQUEST=GetSnapshot&LAYERS=MODIS_Terra_CorrectedReflectance_TrueColor&CRS=EPSG:4326&TIME='\n",
    "date_format = '2020-08-21'\n",
    "unlabeled_url_2 = '&WRAP=DAY&BBOX=40,-123,41.15,-121&FORMAT=image/jpeg&'\n",
    "url_height_width = 'WIDTH=240&HEIGHT=180'\n",
    "unlabeled_url_3 = '&AUTOSCALE=TRUE&ts=1642005890751'"
   ]
  },
  {
   "cell_type": "code",
   "execution_count": 45,
   "metadata": {},
   "outputs": [],
   "source": [
    "years = ['2010','2011','2012','2013','2014','2015','2016','2017','2018','2019','2020','2021']\n",
    "months = ['01','02','03','04','05','06','07','08','09','10','11','12']\n",
    "days = ['01','02','03','04','05','06','07','08','09','10',\n",
    "       '11','12','13','14','15','16','17','18','19','20',\n",
    "       '21','22','23','24','25','26','27','28','29',\n",
    "       '30','31']"
   ]
  },
  {
   "cell_type": "code",
   "execution_count": 46,
   "metadata": {},
   "outputs": [],
   "source": [
    "days_31 = days[0:31]\n",
    "days_30 = days[0:30]\n",
    "days_29 = days[0:29]\n",
    "days_28 = days[0:28]"
   ]
  },
  {
   "cell_type": "markdown",
   "metadata": {},
   "source": [
    "# Images with Orange Dots"
   ]
  },
  {
   "cell_type": "code",
   "execution_count": 61,
   "metadata": {},
   "outputs": [],
   "source": [
    "orange_fire_dates = set()\n",
    "no_orange_fire_dates = set()\n",
    "all_dates = {}\n",
    "for year in years:\n",
    "    for month in months:\n",
    "        if (month == '01' or month == '03' or month == '05' or month == '07' or month == '08' or month == '10' or month == '12') and (year == '2010' or year == '2011' or year == '2012' or year == '2013' or year == '2014' or year == '2015' or year == '2016' or year == '2017' or year == '2018' or year == '2019' or year == '2020' or year == '2021'):\n",
    "            for day in days_31:\n",
    "                date = year+'-'+month+'-'+day\n",
    "                storage_location = 'images_w_fire_labels/'+date+'.jpg'\n",
    "                im = imread(storage_location)\n",
    "                red_filtered = (im[:,:,0] > 150) & (im[:,:,1] < 100) & (im[:,:,2] < 110)\n",
    "                im[:, :, 0] = im[:, :, 0] * red_filtered\n",
    "                im[:, :, 1] = im[:, :, 1] * red_filtered\n",
    "                im[:, :, 2] = im[:, :, 2] * red_filtered\n",
    "                orange_count = 0\n",
    "                by_color = defaultdict(int)\n",
    "                for pixel in im[:,:,0]:\n",
    "                    for point in pixel:\n",
    "                        if point > 0:\n",
    "                            orange_count += 1\n",
    "                if orange_count > 0:\n",
    "                    orange_fire_dates.add(date)\n",
    "                    all_dates[date] = 1\n",
    "                else:\n",
    "                    no_orange_fire_dates.add(date)\n",
    "                    all_dates[date] = 0\n",
    "        if (month == '04' or month == '06' or month == '09' or month == '11') and (year == '2010' or year == '2011' or year == '2012' or year == '2013' or year == '2014' or year == '2015' or year == '2016' or year == '2017' or year == '2018' or year == '2019' or year == '2020' or year == '2021'):\n",
    "            for day in days_30:\n",
    "                date = year+'-'+month+'-'+day\n",
    "                storage_location = 'images_w_fire_labels/'+date+'.jpg'\n",
    "                im = imread(storage_location)\n",
    "                red_filtered = (im[:,:,0] > 150) & (im[:,:,1] < 100) & (im[:,:,2] < 110)\n",
    "                im[:, :, 0] = im[:, :, 0] * red_filtered\n",
    "                im[:, :, 1] = im[:, :, 1] * red_filtered\n",
    "                im[:, :, 2] = im[:, :, 2] * red_filtered\n",
    "                orange_count = 0\n",
    "                by_color = defaultdict(int)\n",
    "                for pixel in im[:,:,0]:\n",
    "                    for point in pixel:\n",
    "                        if point > 0:\n",
    "                            orange_count += 1\n",
    "                if orange_count > 0:\n",
    "                    orange_fire_dates.add(date)\n",
    "                    all_dates[date] = 1\n",
    "                else:\n",
    "                    no_orange_fire_dates.add(date)\n",
    "                    all_dates[date] = 0\n",
    "        if month == '02' and (year == '2010' or year == '2011' or year == '2013' or year == '2014' or year == '2015' or year == '2017' or year == '2018' or year == '2019' or year == '2021'):\n",
    "            for day in days_28:\n",
    "                date = year+'-'+month+'-'+day\n",
    "                storage_location = 'images_w_fire_labels/'+date+'.jpg'\n",
    "                im = imread(storage_location)\n",
    "                red_filtered = (im[:,:,0] > 150) & (im[:,:,1] < 100) & (im[:,:,2] < 110)\n",
    "                im[:, :, 0] = im[:, :, 0] * red_filtered\n",
    "                im[:, :, 1] = im[:, :, 1] * red_filtered\n",
    "                im[:, :, 2] = im[:, :, 2] * red_filtered\n",
    "                orange_count = 0\n",
    "                by_color = defaultdict(int)\n",
    "                for pixel in im[:,:,0]:\n",
    "                    for point in pixel:\n",
    "                        if point > 0:\n",
    "                            orange_count += 1\n",
    "                if orange_count > 0:\n",
    "                    orange_fire_dates.add(date)\n",
    "                    all_dates[date] = 1\n",
    "                else:\n",
    "                    no_orange_fire_dates.add(date)\n",
    "                    all_dates[date] = 0\n",
    "        if month == '02' and (year == '2012' or year == '2016' or year == '2020'):\n",
    "            for day in days_29:\n",
    "                date = year+'-'+month+'-'+day\n",
    "                storage_location = 'images_w_fire_labels/'+date+'.jpg'\n",
    "                im = imread(storage_location)\n",
    "                red_filtered = (im[:,:,0] > 150) & (im[:,:,1] < 100) & (im[:,:,2] < 110)\n",
    "                im[:, :, 0] = im[:, :, 0] * red_filtered\n",
    "                im[:, :, 1] = im[:, :, 1] * red_filtered\n",
    "                im[:, :, 2] = im[:, :, 2] * red_filtered\n",
    "                orange_count = 0\n",
    "                by_color = defaultdict(int)\n",
    "                for pixel in im[:,:,0]:\n",
    "                    for point in pixel:\n",
    "                        if point > 0:\n",
    "                            orange_count += 1\n",
    "                if orange_count > 0:\n",
    "                    orange_fire_dates.add(date)\n",
    "                    all_dates[date] = 1\n",
    "                else:\n",
    "                    no_orange_fire_dates.add(date)\n",
    "                    all_dates[date] = 0"
   ]
  },
  {
   "cell_type": "code",
   "execution_count": 62,
   "metadata": {},
   "outputs": [
    {
     "data": {
      "text/plain": [
       "324"
      ]
     },
     "execution_count": 62,
     "metadata": {},
     "output_type": "execute_result"
    }
   ],
   "source": [
    "len(orange_fire_dates)"
   ]
  },
  {
   "cell_type": "code",
   "execution_count": 63,
   "metadata": {},
   "outputs": [
    {
     "data": {
      "text/plain": [
       "4059"
      ]
     },
     "execution_count": 63,
     "metadata": {},
     "output_type": "execute_result"
    }
   ],
   "source": [
    "len(no_orange_fire_dates)"
   ]
  },
  {
   "cell_type": "markdown",
   "metadata": {},
   "source": [
    "# Orange dot all pixels\n",
    "# The dates in orange_fire_dates_all_pixels that aren't in orange_fire_dates are just black images\n",
    "* Can drop those dates when trying to train"
   ]
  },
  {
   "cell_type": "code",
   "execution_count": 77,
   "metadata": {},
   "outputs": [],
   "source": [
    "orange_fire_dates_all_pixels = set()\n",
    "no_orange_fire_dates_all_pixels = set()\n",
    "all_dates = {}\n",
    "for year in years:\n",
    "    for month in months:\n",
    "        if (month == '01' or month == '03' or month == '05' or month == '07' or month == '08' or month == '10' or month == '12') and (year == '2010' or year == '2011' or year == '2012' or year == '2013' or year == '2014' or year == '2015' or year == '2016' or year == '2017' or year == '2018' or year == '2019' or year == '2020' or year == '2021'):\n",
    "            for day in days_31:\n",
    "                date = year+'-'+month+'-'+day\n",
    "                storage_location = 'images_w_fire_labels/'+date+'.jpg'\n",
    "                im = imread(storage_location)\n",
    "                red_filtered = (im[:,:,0] > 150) & (im[:,:,1] < 100) & (im[:,:,2] < 110)\n",
    "                im[:, :, 0] = im[:, :, 0] * red_filtered\n",
    "                im[:, :, 1] = im[:, :, 1] * red_filtered\n",
    "                im[:, :, 2] = im[:, :, 2] * red_filtered\n",
    "                orange_count = 0\n",
    "                by_color = defaultdict(int)\n",
    "                for pixel in im:\n",
    "                    for point in pixel:\n",
    "                        if point.any() > 0:\n",
    "                            orange_count += 1\n",
    "                if orange_count > 0:\n",
    "                    orange_fire_dates_all_pixels.add(date)\n",
    "                    all_dates[date] = 1\n",
    "                else:\n",
    "                    no_orange_fire_dates_all_pixels.add(date)\n",
    "                    all_dates[date] = 0\n",
    "        if (month == '04' or month == '06' or month == '09' or month == '11') and (year == '2010' or year == '2011' or year == '2012' or year == '2013' or year == '2014' or year == '2015' or year == '2016' or year == '2017' or year == '2018' or year == '2019' or year == '2020' or year == '2021'):\n",
    "            for day in days_30:\n",
    "                date = year+'-'+month+'-'+day\n",
    "                storage_location = 'images_w_fire_labels/'+date+'.jpg'\n",
    "                im = imread(storage_location)\n",
    "                red_filtered = (im[:,:,0] > 150) & (im[:,:,1] < 100) & (im[:,:,2] < 110)\n",
    "                im[:, :, 0] = im[:, :, 0] * red_filtered\n",
    "                im[:, :, 1] = im[:, :, 1] * red_filtered\n",
    "                im[:, :, 2] = im[:, :, 2] * red_filtered\n",
    "                orange_count = 0\n",
    "                by_color = defaultdict(int)\n",
    "                for pixel in im:\n",
    "                    for point in pixel:\n",
    "                        if point.any() > 0:\n",
    "                            orange_count += 1\n",
    "                if orange_count > 0:\n",
    "                    orange_fire_dates_all_pixels.add(date)\n",
    "                    all_dates[date] = 1\n",
    "                else:\n",
    "                    no_orange_fire_dates_all_pixels.add(date)\n",
    "                    all_dates[date] = 0\n",
    "        if month == '02' and (year == '2010' or year == '2011' or year == '2013' or year == '2014' or year == '2015' or year == '2017' or year == '2018' or year == '2019' or year == '2021'):\n",
    "            for day in days_28:\n",
    "                date = year+'-'+month+'-'+day\n",
    "                storage_location = 'images_w_fire_labels/'+date+'.jpg'\n",
    "                im = imread(storage_location)\n",
    "                red_filtered = (im[:,:,0] > 150) & (im[:,:,1] < 100) & (im[:,:,2] < 110)\n",
    "                im[:, :, 0] = im[:, :, 0] * red_filtered\n",
    "                im[:, :, 1] = im[:, :, 1] * red_filtered\n",
    "                im[:, :, 2] = im[:, :, 2] * red_filtered\n",
    "                orange_count = 0\n",
    "                by_color = defaultdict(int)\n",
    "                for pixel in im:\n",
    "                    for point in pixel:\n",
    "                        if point.any() > 0:\n",
    "                            orange_count += 1\n",
    "                if orange_count > 0:\n",
    "                    orange_fire_dates_all_pixels.add(date)\n",
    "                    all_dates[date] = 1\n",
    "                else:\n",
    "                    no_orange_fire_dates_all_pixels.add(date)\n",
    "                    all_dates[date] = 0\n",
    "        if month == '02' and (year == '2012' or year == '2016' or year == '2020'):\n",
    "            for day in days_29:\n",
    "                date = year+'-'+month+'-'+day\n",
    "                storage_location = 'images_w_fire_labels/'+date+'.jpg'\n",
    "                im = imread(storage_location)\n",
    "                red_filtered = (im[:,:,0] > 150) & (im[:,:,1] < 100) & (im[:,:,2] < 110)\n",
    "                im[:, :, 0] = im[:, :, 0] * red_filtered\n",
    "                im[:, :, 1] = im[:, :, 1] * red_filtered\n",
    "                im[:, :, 2] = im[:, :, 2] * red_filtered\n",
    "                orange_count = 0\n",
    "                by_color = defaultdict(int)\n",
    "                for pixel in im:\n",
    "                    for point in pixel:\n",
    "                        if point.any() > 0:\n",
    "                            orange_count += 1\n",
    "                if orange_count > 0:\n",
    "                    orange_fire_dates_all_pixels.add(date)\n",
    "                    all_dates[date] = 1\n",
    "                else:\n",
    "                    no_orange_fire_dates_all_pixels.add(date)\n",
    "                    all_dates[date] = 0"
   ]
  },
  {
   "cell_type": "code",
   "execution_count": 78,
   "metadata": {},
   "outputs": [
    {
     "name": "stdout",
     "output_type": "stream",
     "text": [
      "338\n",
      "4045\n"
     ]
    }
   ],
   "source": [
    "print(len(orange_fire_dates_all_pixels))\n",
    "print(len(no_orange_fire_dates_all_pixels))"
   ]
  },
  {
   "cell_type": "markdown",
   "metadata": {},
   "source": [
    "# Looking at Smoke pixels and cloud pixels"
   ]
  },
  {
   "cell_type": "code",
   "execution_count": 65,
   "metadata": {},
   "outputs": [],
   "source": [
    "fire_dates = set()\n",
    "no_fire_dates = set()\n",
    "cloudy_dates = set()\n",
    "no_cloudy_dates = set()\n",
    "for year in years:\n",
    "    for month in months:\n",
    "        if (month == '01' or month == '03' or month == '05' or month == '07' or month == '08' or month == '10' or month == '12') and (year == '2010' or year == '2011' or year == '2012' or year == '2013' or year == '2014' or year == '2015' or year == '2016' or year == '2017' or year == '2018' or year == '2019' or year == '2020' or year == '2021'):\n",
    "            for day in days_31:\n",
    "                date = year+'-'+month+'-'+day\n",
    "                storage_location = 'images_wo_fire_labels/'+date+'.jpg'\n",
    "                im = imread(storage_location)\n",
    "                fire = 0\n",
    "                no_fire = 0\n",
    "                cloud = 0\n",
    "                no_cloud = 0\n",
    "                for pixel in im:\n",
    "                    for point in pixel:\n",
    "                        if point[0] <= 177 and point[0] > 137 and point[1] < 174 and point[1] > 143 and point[2] < 169 and point[2] > 141:\n",
    "                            fire += 1\n",
    "                        else:\n",
    "                            no_fire +=1  \n",
    "                        if point[0] >= 220 and point[1] >= 220 and point[2] >= 220:\n",
    "                            cloud += 1\n",
    "                        else:\n",
    "                            no_cloud+=1\n",
    "                    \n",
    "                percent_fire = fire/32760\n",
    "                if percent_fire >=.15:\n",
    "                    fire_dates.add(date)\n",
    "                percent_no_fire = no_fire/32760\n",
    "                if percent_no_fire >=.85:\n",
    "                    no_fire_dates.add(date)\n",
    "                percent_cloud = cloud/32760\n",
    "                if percent_cloud >=.3:\n",
    "                    cloudy_dates.add(date)\n",
    "                percent_no_cloud = no_cloud/32760\n",
    "                if percent_no_cloud >= .9:\n",
    "                    no_cloudy_dates.add(date)\n",
    "                    \n",
    "        if (month == '04' or month == '06' or month == '09' or month == '11') and (year == '2010' or year == '2011' or year == '2012' or year == '2013' or year == '2014' or year == '2015' or year == '2016' or year == '2017' or year == '2018' or year == '2019' or year == '2020' or year == '2021'):\n",
    "            for day in days_30:\n",
    "                date = year+'-'+month+'-'+day\n",
    "                storage_location = 'images_wo_fire_labels/'+date+'.jpg'\n",
    "                im = imread(storage_location)\n",
    "                fire = 0\n",
    "                no_fire = 0\n",
    "                cloud = 0\n",
    "                no_cloud = 0\n",
    "                for pixel in im:\n",
    "                    for point in pixel:\n",
    "                        if point[0] <= 177 and point[0] > 137 and point[1] < 174 and point[1] > 143 and point[2] < 169 and point[2] > 141:\n",
    "                            fire += 1\n",
    "                        else:\n",
    "                            no_fire +=1  \n",
    "                        if point[0] >= 220 and point[1] >= 220 and point[2] >= 220:\n",
    "                            cloud += 1\n",
    "                        else:\n",
    "                            no_cloud+=1\n",
    "                    \n",
    "                percent_fire = fire/32760\n",
    "                if percent_fire >=.15:\n",
    "                    fire_dates.add(date)\n",
    "                percent_no_fire = no_fire/32760\n",
    "                if percent_no_fire >=.85:\n",
    "                    no_fire_dates.add(date)\n",
    "                percent_cloud = cloud/32760\n",
    "                if percent_cloud >=.3:\n",
    "                    cloudy_dates.add(date)\n",
    "                percent_no_cloud = no_cloud/32760\n",
    "                if percent_no_cloud >= .9:\n",
    "                    no_cloudy_dates.add(date)      \n",
    "                    \n",
    "        if month == '02' and (year == '2010' or year == '2011' or year == '2013' or year == '2014' or year == '2015' or year == '2017' or year == '2018' or year == '2019' or year == '2021'):\n",
    "            for day in days_28:\n",
    "                date = year+'-'+month+'-'+day\n",
    "                storage_location = 'images_wo_fire_labels/'+date+'.jpg'\n",
    "                im = imread(storage_location)\n",
    "                fire = 0\n",
    "                no_fire = 0\n",
    "                cloud = 0\n",
    "                no_cloud = 0\n",
    "                for pixel in im:\n",
    "                    for point in pixel:\n",
    "                        if point[0] <= 177 and point[0] > 137 and point[1] < 174 and point[1] > 143 and point[2] < 169 and point[2] > 141:\n",
    "                            fire += 1\n",
    "                        else:\n",
    "                            no_fire +=1  \n",
    "                        if point[0] >= 220 and point[1] >= 220 and point[2] >= 220:\n",
    "                            cloud += 1\n",
    "                        else:\n",
    "                            no_cloud+=1\n",
    "                    \n",
    "                percent_fire = fire/32760\n",
    "                if percent_fire >=.15:\n",
    "                    fire_dates.add(date)\n",
    "                percent_no_fire = no_fire/32760\n",
    "                if percent_no_fire >=.85:\n",
    "                    no_fire_dates.add(date)\n",
    "                percent_cloud = cloud/32760\n",
    "                if percent_cloud >=.3:\n",
    "                    cloudy_dates.add(date)\n",
    "                percent_no_cloud = no_cloud/32760\n",
    "                if percent_no_cloud >= .9:\n",
    "                    no_cloudy_dates.add(date)\n",
    "                           \n",
    "        if month == '02' and (year == '2012' or year == '2016' or year == '2020'):\n",
    "            for day in days_29:\n",
    "                date = year+'-'+month+'-'+day\n",
    "                storage_location = 'images_wo_fire_labels/'+date+'.jpg'\n",
    "                im = imread(storage_location)\n",
    "                fire = 0\n",
    "                no_fire = 0\n",
    "                cloud = 0\n",
    "                no_cloud = 0\n",
    "                for pixel in im:\n",
    "                    for point in pixel:\n",
    "                        if point[0] <= 177 and point[0] > 137 and point[1] < 174 and point[1] > 143 and point[2] < 169 and point[2] > 141:\n",
    "                            fire += 1\n",
    "                        else:\n",
    "                            no_fire +=1  \n",
    "                        if point[0] >= 220 and point[1] >= 220 and point[2] >= 220:\n",
    "                            cloud += 1\n",
    "                        else:\n",
    "                            no_cloud+=1\n",
    "                    \n",
    "                percent_fire = fire/32760\n",
    "                if percent_fire >=.15:\n",
    "                    fire_dates.add(date)\n",
    "                percent_no_fire = no_fire/32760\n",
    "                if percent_no_fire >=.85:\n",
    "                    no_fire_dates.add(date)\n",
    "                percent_cloud = cloud/32760\n",
    "                if percent_cloud >=.3:\n",
    "                    cloudy_dates.add(date)\n",
    "                percent_no_cloud = no_cloud/32760\n",
    "                if percent_no_cloud >= .9:\n",
    "                    no_cloudy_dates.add(date)"
   ]
  },
  {
   "cell_type": "code",
   "execution_count": 67,
   "metadata": {},
   "outputs": [
    {
     "name": "stdout",
     "output_type": "stream",
     "text": [
      "301\n",
      "4082\n",
      "765\n",
      "3249\n"
     ]
    }
   ],
   "source": [
    "print(len(fire_dates))\n",
    "print(len(no_fire_dates))\n",
    "print(len(cloudy_dates))\n",
    "print(len(no_cloudy_dates))"
   ]
  },
  {
   "cell_type": "code",
   "execution_count": 52,
   "metadata": {},
   "outputs": [],
   "source": [
    "import pandas as pd"
   ]
  },
  {
   "cell_type": "markdown",
   "metadata": {},
   "source": [
    "# Have only orange fire dates\n",
    "* orange_fire_dates\n",
    "* no_orange_fire_dates\n",
    "\n",
    "# Have only orange fire dates but also images that are just black\n",
    "* orange_fire_dates_all_pixels\n",
    "* no_orange_fire_dates_all_pixels\n",
    "\n",
    "# Have dates where wildfire smoke was detected\n",
    "* fire_dates\n",
    "\n",
    "# Have daes where no wildfire smoke was detected (or not a lot)\n",
    "* no_fire_dates\n",
    "\n",
    "# Have dates with too much cloud coverage\n",
    "* cloudy_dates\n",
    "\n",
    "# Have dates that are clear\n",
    "* no_cloudy_dates"
   ]
  },
  {
   "cell_type": "code",
   "execution_count": 89,
   "metadata": {},
   "outputs": [],
   "source": [
    "orange_fire_dates_list = list(orange_fire_dates)"
   ]
  },
  {
   "cell_type": "code",
   "execution_count": 90,
   "metadata": {},
   "outputs": [],
   "source": [
    "orange_fire_dates_list_df = pd.DataFrame(orange_fire_dates_list,columns = ['Date'])"
   ]
  },
  {
   "cell_type": "code",
   "execution_count": 94,
   "metadata": {},
   "outputs": [],
   "source": [
    "orange_fire_dates_list_df['Fire'] = 1"
   ]
  },
  {
   "cell_type": "code",
   "execution_count": 96,
   "metadata": {},
   "outputs": [],
   "source": [
    "orange_fire_dates_list_df.to_csv('orange_fire_dates_1_13_2022.csv')"
   ]
  },
  {
   "cell_type": "code",
   "execution_count": 97,
   "metadata": {},
   "outputs": [],
   "source": [
    "no_orange_fire_dates_list = list(no_orange_fire_dates)"
   ]
  },
  {
   "cell_type": "code",
   "execution_count": 98,
   "metadata": {},
   "outputs": [],
   "source": [
    "no_orange_fire_dates_list_df = pd.DataFrame(no_orange_fire_dates_list,columns = ['Date'])"
   ]
  },
  {
   "cell_type": "code",
   "execution_count": 99,
   "metadata": {},
   "outputs": [],
   "source": [
    "no_orange_fire_dates_list_df['Fire'] = 0"
   ]
  },
  {
   "cell_type": "code",
   "execution_count": 100,
   "metadata": {},
   "outputs": [],
   "source": [
    "no_orange_fire_dates_list_df.to_csv('no_orange_fire_dates_1_13_2022.csv')"
   ]
  },
  {
   "cell_type": "code",
   "execution_count": 101,
   "metadata": {},
   "outputs": [],
   "source": [
    "orange_fire_dates_all_pixels_list = list(orange_fire_dates_all_pixels)"
   ]
  },
  {
   "cell_type": "code",
   "execution_count": 102,
   "metadata": {},
   "outputs": [],
   "source": [
    "orange_fire_dates_all_pixels_list_df = pd.DataFrame(orange_fire_dates_all_pixels_list,columns = ['Date'])"
   ]
  },
  {
   "cell_type": "code",
   "execution_count": 103,
   "metadata": {},
   "outputs": [],
   "source": [
    "orange_fire_dates_all_pixels_list_df['Fire'] = 1"
   ]
  },
  {
   "cell_type": "code",
   "execution_count": 104,
   "metadata": {},
   "outputs": [],
   "source": [
    "orange_fire_dates_all_pixels_list_df.to_csv('orange_fire_dates_all_pixels_1_13_2022.csv')"
   ]
  },
  {
   "cell_type": "code",
   "execution_count": 105,
   "metadata": {},
   "outputs": [],
   "source": [
    "no_orange_fire_dates_all_pixels_list = list(no_orange_fire_dates_all_pixels)"
   ]
  },
  {
   "cell_type": "code",
   "execution_count": 106,
   "metadata": {},
   "outputs": [],
   "source": [
    "no_orange_fire_dates_all_pixels_list_df = pd.DataFrame(no_orange_fire_dates_all_pixels_list,columns = ['Date'])"
   ]
  },
  {
   "cell_type": "code",
   "execution_count": 107,
   "metadata": {},
   "outputs": [],
   "source": [
    "no_orange_fire_dates_all_pixels_list_df['Fire'] = 0"
   ]
  },
  {
   "cell_type": "code",
   "execution_count": 108,
   "metadata": {},
   "outputs": [],
   "source": [
    "no_orange_fire_dates_all_pixels_list_df.to_csv('no_orange_fire_dates_all_pixels_1_13_2022.csv')"
   ]
  },
  {
   "cell_type": "code",
   "execution_count": null,
   "metadata": {},
   "outputs": [],
   "source": [
    "# Wildfire smoke"
   ]
  },
  {
   "cell_type": "code",
   "execution_count": 109,
   "metadata": {},
   "outputs": [],
   "source": [
    "wildfire_smoke_detected_list = list(fire_dates)"
   ]
  },
  {
   "cell_type": "code",
   "execution_count": 110,
   "metadata": {},
   "outputs": [],
   "source": [
    "wildfire_smoke_detected_list_df = pd.DataFrame(wildfire_smoke_detected_list,columns = ['Date'])"
   ]
  },
  {
   "cell_type": "code",
   "execution_count": 111,
   "metadata": {},
   "outputs": [],
   "source": [
    "wildfire_smoke_detected_list_df['Fire'] = 1"
   ]
  },
  {
   "cell_type": "code",
   "execution_count": 112,
   "metadata": {},
   "outputs": [],
   "source": [
    "wildfire_smoke_detected_list_df.to_csv('wildfire_smoke_detected_1_13_2022.csv')"
   ]
  },
  {
   "cell_type": "code",
   "execution_count": 113,
   "metadata": {},
   "outputs": [],
   "source": [
    "# No wildfire smoke"
   ]
  },
  {
   "cell_type": "code",
   "execution_count": 114,
   "metadata": {},
   "outputs": [],
   "source": [
    "no_wildfire_smoke_detected_list = list(no_fire_dates)"
   ]
  },
  {
   "cell_type": "code",
   "execution_count": 115,
   "metadata": {},
   "outputs": [],
   "source": [
    "no_wildfire_smoke_detected_list_df = pd.DataFrame(no_wildfire_smoke_detected_list,columns = ['Date'])"
   ]
  },
  {
   "cell_type": "code",
   "execution_count": 116,
   "metadata": {},
   "outputs": [],
   "source": [
    "no_wildfire_smoke_detected_list_df['Fire'] = 0"
   ]
  },
  {
   "cell_type": "code",
   "execution_count": 117,
   "metadata": {},
   "outputs": [],
   "source": [
    "no_wildfire_smoke_detected_list_df.to_csv('no_wildfire_smoke_detected_1_13_2022.csv')"
   ]
  },
  {
   "cell_type": "code",
   "execution_count": null,
   "metadata": {},
   "outputs": [],
   "source": [
    "# Clouds"
   ]
  },
  {
   "cell_type": "code",
   "execution_count": 118,
   "metadata": {},
   "outputs": [],
   "source": [
    "cloudy_dates_list = list(cloudy_dates)"
   ]
  },
  {
   "cell_type": "code",
   "execution_count": 119,
   "metadata": {},
   "outputs": [],
   "source": [
    "cloudy_dates_list_df = pd.DataFrame(cloudy_dates_list,columns = ['Date'])"
   ]
  },
  {
   "cell_type": "code",
   "execution_count": 120,
   "metadata": {},
   "outputs": [],
   "source": [
    "cloudy_dates_list_df['Clouds'] = 1"
   ]
  },
  {
   "cell_type": "code",
   "execution_count": 121,
   "metadata": {},
   "outputs": [],
   "source": [
    "cloudy_dates_list_df.to_csv('cloudy_dates_list_1_13_2022.csv')"
   ]
  },
  {
   "cell_type": "code",
   "execution_count": null,
   "metadata": {},
   "outputs": [],
   "source": [
    "# No Clouds"
   ]
  },
  {
   "cell_type": "code",
   "execution_count": 122,
   "metadata": {},
   "outputs": [],
   "source": [
    "no_cloudy_dates_list = list(no_cloudy_dates)"
   ]
  },
  {
   "cell_type": "code",
   "execution_count": 123,
   "metadata": {},
   "outputs": [],
   "source": [
    "no_cloudy_dates_list_df = pd.DataFrame(no_cloudy_dates_list,columns = ['Date'])"
   ]
  },
  {
   "cell_type": "code",
   "execution_count": 124,
   "metadata": {},
   "outputs": [],
   "source": [
    "no_cloudy_dates_list_df['Clouds'] = 0"
   ]
  },
  {
   "cell_type": "code",
   "execution_count": 125,
   "metadata": {},
   "outputs": [],
   "source": [
    "no_cloudy_dates_list_df.to_csv('no_cloudy_dates_list_1_13_2022.csv')"
   ]
  }
 ],
 "metadata": {
  "kernelspec": {
   "display_name": "Python 3",
   "language": "python",
   "name": "python3"
  },
  "language_info": {
   "codemirror_mode": {
    "name": "ipython",
    "version": 3
   },
   "file_extension": ".py",
   "mimetype": "text/x-python",
   "name": "python",
   "nbconvert_exporter": "python",
   "pygments_lexer": "ipython3",
   "version": "3.8.5"
  }
 },
 "nbformat": 4,
 "nbformat_minor": 4
}
